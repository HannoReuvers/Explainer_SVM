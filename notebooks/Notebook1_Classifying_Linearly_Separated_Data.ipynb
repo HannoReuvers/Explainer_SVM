{
 "cells": [
  {
   "cell_type": "markdown",
   "metadata": {},
   "source": [
    "# Notebook 1: Classifying Linearly Separated Data"
   ]
  },
  {
   "cell_type": "markdown",
   "metadata": {},
   "source": [
    "#### STEP 1: Generate data and plot some hyperplanes\n",
    "Sets of coordinates are drawn uniformly on the rectangle $[0,1]\\times[0,1]$. The class with label $+1$ directly uses these coordinates whereas the $y$-coordinates of the class with label $-1$ are shifted vertically by the amount $-1.2$. The two separating hyperplanes are constructed manually."
   ]
  },
  {
   "cell_type": "code",
   "execution_count": null,
   "metadata": {},
   "outputs": [],
   "source": [
    "import numpy as np\n",
    "import matplotlib.pyplot as plt\n",
    "\n",
    "# Number of observations to plot\n",
    "n = 20\n",
    "class_size = int(n/2)\n",
    "\n",
    "# Generate coordinates of points\n",
    "rng = np.random.default_rng(1234)\n",
    "coordinates_1 = rng.uniform(0, 1, size=(class_size, 2))\n",
    "coordinates_2 = rng.uniform(0, 1, size=(class_size, 2))\n",
    "coordinates_2[:, 1] -= 1.2\n",
    "\n",
    "# Create labels\n",
    "y_1 = np.full((class_size, 1), +1)\n",
    "y_2 = np.full((class_size, 1), -1)\n",
    "\n",
    "# Concatenate results\n",
    "X = np.concatenate([coordinates_1, coordinates_2])\n",
    "y = np.concatenate([y_1, y_2])\n",
    "\n",
    "# Class indices\n",
    "class_a = np.where(y == 1)\n",
    "class_b = np.where(y == -1)\n",
    "\n",
    "# Create plot\n",
    "fig, ax = plt.subplots()\n",
    "ax.scatter(X[:class_size, 0],X[:class_size, 1],c='r', label=\"Class 1\")\n",
    "ax.scatter(X[class_size:, 0],X[class_size:, 1],c='g', label=\"Class -1\")\n",
    "ax.plot([0, 1], [0.1, 0], 'k:', label='Separating hyperplane', linewidth=2)\n",
    "ax.plot([0, 1], [0.05, -0.2], 'k--', label='Separating hyperplane', linewidth=2)\n",
    "ax.set_xticks([0.0, 0.2, 0.4, 0.6, 0.8, 1.0])\n",
    "ax.set_yticks([-1.0, -0.5, 0.0, 0.5, 1.0])\n",
    "ax.legend(bbox_to_anchor=(0.7, 1.35))"
   ]
  },
  {
   "cell_type": "markdown",
   "metadata": {},
   "source": [
    "#### STEP 2: Solve the quadratic program to find maximum-margin hyperplane\n",
    "\n",
    "*Note*: At the time of writing, the qpsolvers package does not include a solver. The solver needs to be installed seperatedly. The code belows relies on quadprog. It can be installed through $\\texttt{pip3 install quadprog}$."
   ]
  },
  {
   "cell_type": "code",
   "execution_count": null,
   "metadata": {},
   "outputs": [],
   "source": [
    "import numpy as np\n",
    "from qpsolvers import solve_qp\n",
    "\n",
    "# Dimension of the feature space\n",
    "K = 2\n",
    "\n",
    "# Vector of ones\n",
    "ones = np.full((n, 1), 1)\n",
    "\n",
    "# Auxiliary matrix\n",
    "X_total = np.column_stack((X,ones))\n",
    "\n",
    "# QP-specific quantities\n",
    "P = np.block([\n",
    "    [np.identity(K),    np.zeros((K, 1))],\n",
    "    [np.ones((1, K)),   np.zeros((1,1))]])\n",
    "q = np.zeros((3, 1))\n",
    "G = -y*X_total\n",
    "h = -ones\n",
    "\n",
    "# Solve QP\n",
    "x = solve_qp(P, q, G, h, solver=\"clarabel\")\n",
    "\n",
    "# Create plot\n",
    "fig, ax = plt.subplots()\n",
    "a = -x[0]/x[1]\n",
    "b = -x[2]/x[1]\n",
    "\n",
    "# Print slope and intercept of the separating hyperplane (= line in 2D)\n",
    "print(f\"Slope: {a}\")\n",
    "print(f\"Intercept: {b}\\n\")\n",
    "\n",
    "\n",
    "x_values = np.linspace(0 ,1, 51)\n",
    "ax.scatter(X[:class_size, 0],X[:class_size, 1],c='r', label=\"Class 1\")\n",
    "ax.scatter(X[class_size:, 0],X[class_size:, 1],c='g', label=\"Class -1\")\n",
    "ax.axline((0,b), slope=a, color='k', linestyle='solid', label=\"Optimal separating hyperplane\")\n",
    "ax.set_xticks([0.0, 0.2, 0.4, 0.6, 0.8, 1.0])\n",
    "ax.set_yticks([-1.0, -0.5, 0.0, 0.5, 1.0])\n",
    "ax.legend(bbox_to_anchor=(0.7, 1.35))"
   ]
  },
  {
   "cell_type": "markdown",
   "metadata": {},
   "source": [
    "#### STEP 3 (OPTIONAL): Replicate slope and intercepts using function in $\\texttt{utils.py}$"
   ]
  },
  {
   "cell_type": "code",
   "execution_count": null,
   "metadata": {},
   "outputs": [],
   "source": [
    "# Read configuration file\n",
    "import json\n",
    "import matplotlib.pyplot as plt\n",
    "with open('../config/user_config_file.json') as f:\n",
    "    config_file = json.load(f)\n",
    "\n",
    "# Import helper functions from src/utils.py ()\n",
    "import sys\n",
    "sys.path.append(config_file[\"utils_location\"])\n",
    "from utils import *\n",
    "\n",
    "try:\n",
    "    f_slope, f_intercept = determine_separating_hyperplane(X[:,0], X[:,1], y)\n",
    "except:\n",
    "    print(\"Failed\")\n",
    "\n",
    "print(f\"Slope: {f_slope}\")\n",
    "print(f\"Intercept: {f_intercept}\")"
   ]
  }
 ],
 "metadata": {
  "kernelspec": {
   "display_name": "Python 3",
   "language": "python",
   "name": "python3"
  },
  "language_info": {
   "codemirror_mode": {
    "name": "ipython",
    "version": 3
   },
   "file_extension": ".py",
   "mimetype": "text/x-python",
   "name": "python",
   "nbconvert_exporter": "python",
   "pygments_lexer": "ipython3",
   "version": "3.9.6"
  }
 },
 "nbformat": 4,
 "nbformat_minor": 2
}
