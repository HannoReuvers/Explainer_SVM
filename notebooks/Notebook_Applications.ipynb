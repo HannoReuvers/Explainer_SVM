{
 "cells": [
  {
   "cell_type": "markdown",
   "id": "7cae241f",
   "metadata": {},
   "source": [
    "# Notebook: Applications"
   ]
  },
  {
   "cell_type": "markdown",
   "id": "1b7cdea2",
   "metadata": {},
   "source": [
    "### APPLICATION 1: Predicting the hand-written digit 8 in the MNIST dataset\n",
    "\n",
    "#### STEP 1: Preprocess the data"
   ]
  },
  {
   "cell_type": "code",
   "execution_count": null,
   "id": "df7be7fa",
   "metadata": {},
   "outputs": [],
   "source": [
    "from IPython.display import display\n",
    "import json\n",
    "import matplotlib.pyplot as plt\n",
    "import numpy as np\n",
    "import pandas as pd\n",
    "from sklearn.svm import SVC\n",
    "from sklearn.metrics import accuracy_score\n",
    "import sys\n",
    "import time\n",
    "\n",
    "# Read configuration file\n",
    "with open(\"../config/user_config_file.json\") as f:\n",
    "    config_file = json.load(f)\n",
    "\n",
    "# Import helper functions from src/utils_MNIST.py\n",
    "sys.path.append(config_file[\"utils_location\"])\n",
    "try:\n",
    "    import utils_MNIST\n",
    "except ModuleNotFoundError:\n",
    "    print('Failed to import MNIST utilities. Did you correct specify <utils_location> in the config file?')\n",
    "    sys.exit(1)\n",
    "\n",
    "# General parameter(s)\n",
    "DIGIT_TO_CLASSIFY = 8\n",
    "\n",
    "# Read MNIST data\n",
    "X_train, X_valid, X_test, y_train_digits, y_valid_digits, y_test_digits = utils_MNIST.prepare_MNIST_data_sets(config_file[\"MNIST_data_location\"], vectorize_features=True)\n",
    "\n",
    "# Digit distribution in training, validation, and test data sets\n",
    "stat_train = [\"train\"]+list(utils_MNIST.digit_label_statistics(y_train_digits))\n",
    "stat_valid = [\"valid\"]+list(utils_MNIST.digit_label_statistics(y_valid_digits))\n",
    "stat_test = [\"test\"]+list(utils_MNIST.digit_label_statistics(y_test_digits))\n",
    "df_sample_stats= pd.DataFrame([stat_train, stat_valid, stat_test], columns=([\"data\", \"sample size\"]+[str(number) for number in range(10)]))\n",
    "\n",
    "# Create 0/1 class labels based on the selected digit to classify\n",
    "y_train = np.array(1*(y_train_digits==DIGIT_TO_CLASSIFY)).astype(int)\n",
    "y_valid = np.array(1*(y_valid_digits==DIGIT_TO_CLASSIFY)).astype(int)\n",
    "\n",
    "# Show statistics\n",
    "display(df_sample_stats)\n",
    "\n",
    "# Plot some sample numbers\n",
    "idx_list = [23, 1, 9, 35]\n",
    "fig, axes = plt.subplots(1,4, figsize=(10,160))\n",
    "for ax, idx in zip(axes.flat, idx_list):\n",
    "    ax.imshow(X_train[idx].reshape((28,28)), cmap=plt.cm.binary)\n",
    "    ax.set_xticks([0, 6, 13, 20, 27])\n",
    "    ax.set_yticks([0, 6, 13, 20, 27])\n",
    "plt.tight_layout()\n",
    "plt.show"
   ]
  },
  {
   "cell_type": "markdown",
   "id": "04913b1f",
   "metadata": {},
   "source": [
    "#### STEP 2: Hyperparameter training\n",
    "\n",
    "We define a logarithmically equidistance grid of hyperparameter values for $C$ ranging from $10^{-2}$ to $10$. A linear SVM is trained for each value of $C$ and its performance is evaluated on the validation set.\n",
    "\n",
    "_Note_: Depending on computational resources, the execution of the cell below can take some time. "
   ]
  },
  {
   "cell_type": "code",
   "execution_count": null,
   "id": "ef55c310",
   "metadata": {},
   "outputs": [],
   "source": [
    "# Start iterations over hyperparameter grid\n",
    "C_grid = np.logspace(-4, -1, num=10)\n",
    "acc_list, para_l2_norm_list, comp_time = [], [], []\n",
    "for counter, C_parameter in enumerate(C_grid):\n",
    "\n",
    "    start_timer = time.time()\n",
    "\n",
    "    # Estimate model\n",
    "    SVM_model = SVC(C=C_parameter, kernel=\"linear\", shrinking=False).fit(X_train, y_train)\n",
    "\n",
    "    # Performance on validation data set\n",
    "    y_pred = SVM_model.predict(X_valid)\n",
    "    accuracy = accuracy_score(y_valid, y_pred)\n",
    "    parameter_l2_norm = np.linalg.norm(SVM_model.coef_)\n",
    "    elapsed_time =time.time()-start_timer\n",
    "\n",
    "    # Append outcomes\n",
    "    acc_list.append(accuracy), para_l2_norm_list.append(parameter_l2_norm), comp_time.append(elapsed_time)\n",
    "\n",
    "    # Print progress\n",
    "    print(f\"Hyperparameter setting: {counter+1} out of {len(C_grid)} -- Hyperparameter: {C_parameter} -- Accuracy: {accuracy} -- Elapsed time: {elapsed_time}s\")\n",
    "\n",
    "\n",
    "# Generate overview plot\n",
    "fig, ax1 = plt.subplots()\n",
    "# Left axis\n",
    "ax1.set_xlabel('C')\n",
    "ax1.set_ylabel('Accuracy')\n",
    "ax1.semilogx(C_grid, acc_list, color='k', linestyle=\"solid\", label=\"Accuracy\")\n",
    "ax1.tick_params(axis='y')\n",
    "# right axis\n",
    "ax2 = ax1.twinx()\n",
    "ax2.set_ylabel('Computation time (sec)')\n",
    "ax2.semilogx(C_grid, comp_time, color='k', linestyle=\"dotted\", label=\"L2 norm\")\n",
    "ax2.tick_params(axis='y')\n",
    "fig.tight_layout()\n",
    "plt.show()"
   ]
  },
  {
   "cell_type": "markdown",
   "id": "1b813ad7",
   "metadata": {},
   "source": [
    "#### STEP 3: Evaluate performance on the test data"
   ]
  },
  {
   "cell_type": "code",
   "execution_count": null,
   "id": "10cc03d6",
   "metadata": {},
   "outputs": [],
   "source": [
    "# Final hyperparameter value\n",
    "selected_C_parameter = 1E-2\n",
    "\n",
    "# Create 0/1 class labels based on the selected digit to classify\n",
    "y_test = np.array(1*(y_test_digits==DIGIT_TO_CLASSIFY)).astype(int)\n",
    "\n",
    "# Estimate model\n",
    "selected_SVM_model = SVC(C=selected_C_parameter, kernel=\"linear\", shrinking=False).fit(X_train, y_train)\n",
    "y_pred_test = selected_SVM_model.predict(X_test)\n",
    "test_accuracy = accuracy_score(y_test, y_pred_test)\n",
    "\n",
    "# Inform user\n",
    "print(f\"Accuracy on test set: {test_accuracy*100}%\")"
   ]
  },
  {
   "cell_type": "markdown",
   "id": "d66aa3f0",
   "metadata": {},
   "source": [
    "#### STEP 4: Model interpretation through estimated coefficients"
   ]
  },
  {
   "cell_type": "code",
   "execution_count": null,
   "id": "efef05a0",
   "metadata": {},
   "outputs": [],
   "source": [
    "# Reshape coefficients into image size\n",
    "estimated_coef = selected_SVM_model.coef_.reshape((28, 28))\n",
    "\n",
    "# Visualize estimated parameters\n",
    "fig, ax = plt.subplots(1,1)\n",
    "img = plt.imshow(estimated_coef)\n",
    "ax.set_xticks([0, 6, 13, 20, 27])\n",
    "ax.set_yticks([0, 6, 13, 20, 27])\n",
    "cbar = plt.colorbar()\n",
    "fig.tight_layout()"
   ]
  }
 ],
 "metadata": {
  "kernelspec": {
   "display_name": "Python 3",
   "language": "python",
   "name": "python3"
  },
  "language_info": {
   "codemirror_mode": {
    "name": "ipython",
    "version": 3
   },
   "file_extension": ".py",
   "mimetype": "text/x-python",
   "name": "python",
   "nbconvert_exporter": "python",
   "pygments_lexer": "ipython3",
   "version": "3.9.6"
  }
 },
 "nbformat": 4,
 "nbformat_minor": 5
}
